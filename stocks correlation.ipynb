{
 "cells": [
  {
   "cell_type": "code",
   "execution_count": null,
   "metadata": {},
   "outputs": [],
   "source": [
    "import pandas as pd\n",
    "from pandas_datareader import data as wb \n",
    "import numpy as np\n",
    "import matplotlib.pyplot as plt"
   ]
  },
  {
   "cell_type": "code",
   "execution_count": null,
   "metadata": {},
   "outputs": [],
   "source": [
    "#companies\n",
    "companies=['ITSA4.SA','GGBR3.SA','RANI3.SA','FLRY3.SA','ABEV3.SA','B3SA3.SA','PRNR3.SA']\n",
    "data_set=pd.DataFrame()\n",
    "difference=pd.DataFrame()"
   ]
  },
  {
   "cell_type": "code",
   "execution_count": null,
   "metadata": {},
   "outputs": [],
   "source": [
    "for c in companies:\n",
    "    data_set[c]=wb.DataReader(c,data_source='yahoo',start='01-01-2010')['Open']\n",
    "data_set.head()"
   ]
  },
  {
   "cell_type": "code",
   "execution_count": null,
   "metadata": {},
   "outputs": [],
   "source": [
    "correlacao = data_set.corr()\n",
    "fig = plt.figure()\n",
    "ax = fig.add_subplot(111)\n",
    "cax = ax.matshow(correlacao,cmap='coolwarm', vmin=-1, vmax=1)\n",
    "fig.colorbar(cax)\n",
    "ticks = np.arange(0,len(data_set.columns),1)\n",
    "ax.set_xticks(ticks)\n",
    "plt.xticks(rotation=90)\n",
    "ax.set_yticks(ticks)\n",
    "ax.set_xticklabels(data_set.columns)\n",
    "ax.set_yticklabels(data_set.columns)\n",
    "plt.show()"
   ]
  },
  {
   "cell_type": "code",
   "execution_count": null,
   "metadata": {},
   "outputs": [],
   "source": [
    "data_set.corr().style.background_gradient(cmap='Blues')"
   ]
  },
  {
   "cell_type": "code",
   "execution_count": null,
   "metadata": {},
   "outputs": [],
   "source": [
    "# fig,ax1=plt.subplots()\n",
    "# ax1.plot(data_set['^BVSP'],color='#025060',label='Ibovespa')\n",
    "# handles, labels = ax1.get_legend_handles_labels()\n",
    "# ax1.legend(handles, labels,loc='lower right')\n",
    "# ax2=ax1.twinx()\n",
    "# ax2.plot(data_set['^GSPC'],color='Blue',label='S&P 500')\n",
    "# handles, labels = ax2.get_legend_handles_labels()\n",
    "# ax2.legend(handles, labels)\n",
    "# plt.show()"
   ]
  },
  {
   "cell_type": "code",
   "execution_count": null,
   "metadata": {},
   "outputs": [],
   "source": [
    "# for w in companies:\n",
    "#     difference[w]=wb.DataReader(w,data_source='yahoo',start='01-01-2018')['Open']-wb.DataReader(w,data_source='yahoo',start='01-01-2018')['Adj Close']\n",
    "# difference.head()\n"
   ]
  }
 ],
 "metadata": {
  "interpreter": {
   "hash": "0c880bf50398c9e6ebbd48c247ea31cff5c6f8ce48b9cfb1b78e929d6cc40437"
  },
  "kernelspec": {
   "display_name": "Python 3.9.12 64-bit (windows store)",
   "language": "python",
   "name": "python3"
  },
  "language_info": {
   "codemirror_mode": {
    "name": "ipython",
    "version": 3
   },
   "file_extension": ".py",
   "mimetype": "text/x-python",
   "name": "python",
   "nbconvert_exporter": "python",
   "pygments_lexer": "ipython3",
   "version": "3.9.13"
  },
  "orig_nbformat": 4
 },
 "nbformat": 4,
 "nbformat_minor": 2
}
