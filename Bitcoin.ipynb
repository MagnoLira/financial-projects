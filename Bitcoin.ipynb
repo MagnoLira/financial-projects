{
 "cells": [
  {
   "cell_type": "code",
   "execution_count": null,
   "metadata": {},
   "outputs": [],
   "source": [
    "import yfinance as yf  \n",
    "import matplotlib.pyplot as plt\n",
    "import scipy.stats as stats\n",
    "import datetime "
   ]
  },
  {
   "cell_type": "code",
   "execution_count": null,
   "metadata": {},
   "outputs": [],
   "source": [
    "ticker=yf.Ticker('BTC-USD')\n",
    "ticker"
   ]
  },
  {
   "cell_type": "code",
   "execution_count": null,
   "metadata": {},
   "outputs": [],
   "source": [
    "#Bitcoin price over the latest 200 days\n",
    "end=datetime.datetime.now()\n",
    "start=end - datetime.timedelta(days=200)\n",
    "values=ticker.history(interval='1d',start=start,end=end)['Open']\n",
    "plt.title('Bitcoin price over the 200-day')\n",
    "plt.ylabel('Prices')\n",
    "values.plot(figsize=(16,8))\n",
    "values"
   ]
  },
  {
   "cell_type": "code",
   "execution_count": null,
   "metadata": {},
   "outputs": [],
   "source": [
    "#histogram\n",
    "plt.title('Histogram')\n",
    "plt.hist(values,bins=20)\n",
    "plt.axvline(values.mean(),color='k',linestyle='dashed',linewidth=2)\n",
    "plt.show()"
   ]
  },
  {
   "cell_type": "code",
   "execution_count": null,
   "metadata": {},
   "outputs": [],
   "source": [
    "#QQ-PLOT TEST\n",
    "fig,ax=plt.subplots()\n",
    "stats.probplot(values,fit=True,plot=ax)\n",
    "plt.show()"
   ]
  },
  {
   "cell_type": "code",
   "execution_count": null,
   "metadata": {},
   "outputs": [],
   "source": [
    "#SHAPIRO-WILK TEST\n",
    "stats.shapiro(values)"
   ]
  }
 ],
 "metadata": {
  "interpreter": {
   "hash": "f0a8ca1b1324573d7b9c7247f92177669f6f55c0b2d917412ca0894f2d26eb46"
  },
  "kernelspec": {
   "display_name": "Python 3.9.10 64-bit (windows store)",
   "language": "python",
   "name": "python3"
  },
  "language_info": {
   "codemirror_mode": {
    "name": "ipython",
    "version": 3
   },
   "file_extension": ".py",
   "mimetype": "text/x-python",
   "name": "python",
   "nbconvert_exporter": "python",
   "pygments_lexer": "ipython3",
   "version": "3.9.12"
  },
  "orig_nbformat": 4
 },
 "nbformat": 4,
 "nbformat_minor": 2
}
