{
 "cells": [
  {
   "cell_type": "code",
   "execution_count": null,
   "metadata": {},
   "outputs": [],
   "source": [
    "import matplotlib.pyplot as plt\n",
    "import pandas as pd\n",
    "import numpy as np\n",
    "import seaborn as sns\n",
    "from pandas_datareader import data as wb"
   ]
  },
  {
   "cell_type": "code",
   "execution_count": null,
   "metadata": {},
   "outputs": [],
   "source": [
    "#We will make an analyze the performance of stock index of some G7 countries in the pandemic scenario\n",
    "#EUA-S&P 500 ; Canada-TSX-300; Germany-DAX-30\n",
    "#France-CAC-40.\n",
    "#The order is respective as shown above.\n",
    "indicators=['^GSPC','^GSPTSE','^GDAXI','^FCHI']\n",
    "indexes=pd.DataFrame()\n",
    "for c in indicators:\n",
    "    indexes[c]=wb.DataReader(c,data_source='yahoo',start='01-01-2020',end='08-15-2022')['Adj Close']"
   ]
  },
  {
   "cell_type": "code",
   "execution_count": null,
   "metadata": {},
   "outputs": [],
   "source": [
    "#renaming column names\n",
    "# names=['S&P 500','TSX-300','NIKKEI 225','DAX-30','CAC-40']\n",
    "indexes.rename(columns={'^GSPC':'S&P 500','^GSPTSE':'TSX-300',\n",
    "'^GDAXI':'DAX-30','^FCHI':'CAC-40'},inplace=True)\n",
    "indexes.tail()"
   ]
  },
  {
   "cell_type": "code",
   "execution_count": null,
   "metadata": {},
   "outputs": [],
   "source": [
    "#setting up the indexes\n",
    "sp500=indexes['S&P 500']\n",
    "tsx300=indexes['TSX-300']\n",
    "dax30=indexes['DAX-30']\n",
    "cac40=indexes['CAC-40']"
   ]
  },
  {
   "cell_type": "code",
   "execution_count": null,
   "metadata": {},
   "outputs": [],
   "source": [
    "#Retorno acumulado\n",
    "sp500=np.cumprod(sp500.pct_change()+1)-1\n",
    "tsx300=np.cumprod(tsx300.pct_change()+1)-1\n",
    "dax30=np.cumprod(dax30.pct_change()+1)-1\n",
    "cac40=np.cumprod(cac40.pct_change()+1)-1"
   ]
  },
  {
   "cell_type": "code",
   "execution_count": null,
   "metadata": {},
   "outputs": [],
   "source": [
    "nomes=['S&P 500','TSX-300','DAX-30','CAC-40']\n",
    "rentabilidade=[round(sp500[-1]*100,2),round(tsx300[-1]*100,2),round(dax30[-1]*100,2),round(cac40[-1]*100,2)]\n",
    "nationality=['S&P500','TSX-300','DAX-30','CAC-40']"
   ]
  },
  {
   "cell_type": "code",
   "execution_count": null,
   "metadata": {},
   "outputs": [],
   "source": [
    "#criando uma figure, axes, alterando tamanho\n",
    "fig, ax = plt.subplots(figsize=(8,6))\n",
    "#criando o gráfico de barras\n",
    "plot=sns.barplot(x=nomes, y=rentabilidade, palette='Blues_r',ci=False)\n",
    "#adicionando título\n",
    "ax.set_title(\"Performance no período pandêmico\\n2020(janeiro)-2022(agosto)\", fontdict={'fontsize':15})\n",
    "#adicionando legenda\n",
    "plot.legend(labels=nationality)\n",
    "#mudando e nome e tamanho do label x\n",
    "ax.set_xlabel('Índices', fontdict={'fontsize':14})\n",
    "#mudando tamanho do label eixo y\n",
    "ax.set_ylabel('Retorno em (%)')\n",
    "#mudando tamanho dos labels dos ticks\n",
    "ax.tick_params(labelsize=14)\n",
    "#aumentando espessura linha inferior\n",
    "ax.spines['bottom'].set_linewidth(2.5)\n",
    "#remoção dos outros três axis\n",
    "for axis in ['top', 'right', 'left']:\n",
    "   ax.spines[axis].set_color(None)\n",
    "#tornando os números vísiveis\n",
    "for i in plot.patches:\n",
    "   plot.annotate(f'{i.get_height()}%',(i.get_x()+i.get_width()/2,i.get_height()),\n",
    "   ha='center',va='baseline',fontsize=12,\n",
    "   color='black',xytext=(0,1),\n",
    "   textcoords='offset points')\n",
    "#remoção dos ticks\n",
    "ax.tick_params(axis='y', labelleft=False, left=None)                  \n",
    "#otimizar espaço da figure\n",
    "fig.tight_layout();"
   ]
  },
  {
   "cell_type": "code",
   "execution_count": null,
   "metadata": {},
   "outputs": [],
   "source": [
    "#correlação\n",
    "indexes.corr().style.background_gradient(cmap='Blues')"
   ]
  }
 ],
 "metadata": {
  "kernelspec": {
   "display_name": "Python 3.9.13 64-bit (windows store)",
   "language": "python",
   "name": "python3"
  },
  "language_info": {
   "codemirror_mode": {
    "name": "ipython",
    "version": 3
   },
   "file_extension": ".py",
   "mimetype": "text/x-python",
   "name": "python",
   "nbconvert_exporter": "python",
   "pygments_lexer": "ipython3",
   "version": "3.9.13"
  },
  "orig_nbformat": 4,
  "vscode": {
   "interpreter": {
    "hash": "0c880bf50398c9e6ebbd48c247ea31cff5c6f8ce48b9cfb1b78e929d6cc40437"
   }
  }
 },
 "nbformat": 4,
 "nbformat_minor": 2
}
