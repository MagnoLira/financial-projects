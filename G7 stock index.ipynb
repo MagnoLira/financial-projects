{
 "cells": [
  {
   "cell_type": "code",
   "execution_count": 25,
   "metadata": {},
   "outputs": [],
   "source": [
    "import matplotlib.pyplot as plt\n",
    "import pandas as pd\n",
    "import numpy as np\n",
    "import seaborn as sns\n",
    "from pandas_datareader import data as pdr\n",
    "import yfinance as yf\n",
    "import statistics as sts"
   ]
  },
  {
   "cell_type": "code",
   "execution_count": 26,
   "metadata": {},
   "outputs": [],
   "source": [
    "yf.pdr_override()"
   ]
  },
  {
   "cell_type": "code",
   "execution_count": 27,
   "metadata": {},
   "outputs": [],
   "source": [
    "#We will analyze the performance of the stock index of some G7 countries in the pandemic scenario\n",
    "#EUA-S&P 500 ; Canada-TSX-300; Germany-DAX-30\n",
    "#France-CAC-40.\n",
    "#The order is respective as shown above.\n",
    "indicators=['^GSPC','^GSPTSE','^GDAXI','^FCHI']\n",
    "indexes=pd.DataFrame()\n"
   ]
  },
  {
   "cell_type": "code",
   "execution_count": 28,
   "metadata": {},
   "outputs": [
    {
     "name": "stdout",
     "output_type": "stream",
     "text": [
      "[*********************100%***********************]  4 of 4 completed\n"
     ]
    }
   ],
   "source": [
    "indexes=pdr.get_data_yahoo(indicators,start='2020-01-01',end='2023-01-01')['Adj Close']"
   ]
  },
  {
   "cell_type": "code",
   "execution_count": 29,
   "metadata": {},
   "outputs": [
    {
     "data": {
      "text/html": [
       "<div>\n",
       "<style scoped>\n",
       "    .dataframe tbody tr th:only-of-type {\n",
       "        vertical-align: middle;\n",
       "    }\n",
       "\n",
       "    .dataframe tbody tr th {\n",
       "        vertical-align: top;\n",
       "    }\n",
       "\n",
       "    .dataframe thead th {\n",
       "        text-align: right;\n",
       "    }\n",
       "</style>\n",
       "<table border=\"1\" class=\"dataframe\">\n",
       "  <thead>\n",
       "    <tr style=\"text-align: right;\">\n",
       "      <th></th>\n",
       "      <th>CAC-40</th>\n",
       "      <th>DAX-30</th>\n",
       "      <th>S&amp;P 500</th>\n",
       "      <th>TSX-300</th>\n",
       "    </tr>\n",
       "    <tr>\n",
       "      <th>Date</th>\n",
       "      <th></th>\n",
       "      <th></th>\n",
       "      <th></th>\n",
       "      <th></th>\n",
       "    </tr>\n",
       "  </thead>\n",
       "  <tbody>\n",
       "    <tr>\n",
       "      <th>2022-12-23</th>\n",
       "      <td>6504.899902</td>\n",
       "      <td>13940.929688</td>\n",
       "      <td>3844.820068</td>\n",
       "      <td>19506.699219</td>\n",
       "    </tr>\n",
       "    <tr>\n",
       "      <th>2022-12-27</th>\n",
       "      <td>6550.660156</td>\n",
       "      <td>13995.099609</td>\n",
       "      <td>3829.250000</td>\n",
       "      <td>NaN</td>\n",
       "    </tr>\n",
       "    <tr>\n",
       "      <th>2022-12-28</th>\n",
       "      <td>6510.490234</td>\n",
       "      <td>13925.599609</td>\n",
       "      <td>3783.219971</td>\n",
       "      <td>19284.099609</td>\n",
       "    </tr>\n",
       "    <tr>\n",
       "      <th>2022-12-29</th>\n",
       "      <td>6573.470215</td>\n",
       "      <td>14071.719727</td>\n",
       "      <td>3849.280029</td>\n",
       "      <td>19485.900391</td>\n",
       "    </tr>\n",
       "    <tr>\n",
       "      <th>2022-12-30</th>\n",
       "      <td>6473.759766</td>\n",
       "      <td>13923.589844</td>\n",
       "      <td>3839.500000</td>\n",
       "      <td>19384.900391</td>\n",
       "    </tr>\n",
       "  </tbody>\n",
       "</table>\n",
       "</div>"
      ],
      "text/plain": [
       "                 CAC-40        DAX-30      S&P 500       TSX-300\n",
       "Date                                                            \n",
       "2022-12-23  6504.899902  13940.929688  3844.820068  19506.699219\n",
       "2022-12-27  6550.660156  13995.099609  3829.250000           NaN\n",
       "2022-12-28  6510.490234  13925.599609  3783.219971  19284.099609\n",
       "2022-12-29  6573.470215  14071.719727  3849.280029  19485.900391\n",
       "2022-12-30  6473.759766  13923.589844  3839.500000  19384.900391"
      ]
     },
     "execution_count": 29,
     "metadata": {},
     "output_type": "execute_result"
    }
   ],
   "source": [
    "#renaming column names\n",
    "#names=['S&P 500','TSX-300','DAX-30','CAC-40']\n",
    "indexes.rename(columns={'^GSPC':'S&P 500','^GSPTSE':'TSX-300',\n",
    "'^GDAXI':'DAX-30','^FCHI':'CAC-40'},inplace=True)\n",
    "indexes.tail()"
   ]
  },
  {
   "cell_type": "code",
   "execution_count": 30,
   "metadata": {},
   "outputs": [
    {
     "data": {
      "text/plain": [
       "CAC-40      4\n",
       "DAX-30     10\n",
       "S&P 500    20\n",
       "TSX-300    23\n",
       "dtype: int64"
      ]
     },
     "execution_count": 30,
     "metadata": {},
     "output_type": "execute_result"
    }
   ],
   "source": [
    "#Nan values\n",
    "indexes.isnull().sum()"
   ]
  },
  {
   "cell_type": "code",
   "execution_count": 31,
   "metadata": {},
   "outputs": [],
   "source": [
    "#Nan values on the TSX-300\n",
    "mediana300=sts.median(indexes['TSX-300'])\n",
    "indexes['TSX-300'].fillna(mediana300,inplace=True)"
   ]
  },
  {
   "cell_type": "code",
   "execution_count": 32,
   "metadata": {},
   "outputs": [],
   "source": [
    "#Nan values on DAX-30\n",
    "mediana30=sts.median(indexes['DAX-30'])\n",
    "indexes['DAX-30'].fillna(mediana30,inplace=True)"
   ]
  },
  {
   "cell_type": "code",
   "execution_count": 33,
   "metadata": {},
   "outputs": [],
   "source": [
    "#Nan values on the CAC-40\n",
    "mediana40=sts.median(indexes['CAC-40'])\n",
    "indexes['CAC-40'].fillna(mediana40,inplace=True)"
   ]
  },
  {
   "cell_type": "code",
   "execution_count": 34,
   "metadata": {},
   "outputs": [
    {
     "data": {
      "text/plain": [
       "CAC-40      0\n",
       "DAX-30      0\n",
       "S&P 500    20\n",
       "TSX-300     0\n",
       "dtype: int64"
      ]
     },
     "execution_count": 34,
     "metadata": {},
     "output_type": "execute_result"
    }
   ],
   "source": [
    "#verification\n",
    "indexes.isnull().sum()"
   ]
  },
  {
   "cell_type": "code",
   "execution_count": 35,
   "metadata": {},
   "outputs": [],
   "source": [
    "#setting up the indexes\n",
    "sp500=indexes['S&P 500']\n",
    "tsx300=indexes['TSX-300']\n",
    "dax30=indexes['DAX-30']\n",
    "cac40=indexes['CAC-40']"
   ]
  },
  {
   "cell_type": "code",
   "execution_count": 36,
   "metadata": {},
   "outputs": [
    {
     "data": {
      "text/plain": [
       "0.17853795752057633"
      ]
     },
     "execution_count": 36,
     "metadata": {},
     "output_type": "execute_result"
    }
   ],
   "source": [
    "#cumulative return\n",
    "sp500=np.cumprod(sp500.pct_change()+1)-1\n",
    "tsx300=np.cumprod(tsx300.pct_change()+1)-1\n",
    "dax30=np.cumprod(dax30.pct_change()+1)-1\n",
    "cac40=np.cumprod(cac40.pct_change()+1)-1\n",
    "sp500[-1]"
   ]
  },
  {
   "cell_type": "code",
   "execution_count": 37,
   "metadata": {},
   "outputs": [],
   "source": [
    "#the profit is determined by: sp500[-1]*100,tsx300[-1]*100 and so on\n",
    "columns=['S&P 500','TSX-300','DAX-30','CAC-40']\n",
    "profit=[round(sp500[-1]*100,2),round(tsx300[-1]*100,2),round(dax30[-1]*100,2),round(cac40[-1]*100,2)]"
   ]
  },
  {
   "cell_type": "code",
   "execution_count": 38,
   "metadata": {},
   "outputs": [
    {
     "data": {
      "image/png": "[encoded data removed]",
      "text/plain": [
       "<Figure size 576x432 with 1 Axes>"
      ]
     },
     "metadata": {
      "needs_background": "light"
     },
     "output_type": "display_data"
    }
   ],
   "source": [
    "#figure, axes, setting the size\n",
    "fig, ax = plt.subplots(figsize=(8,6))\n",
    "#Bar plot\n",
    "plot=sns.barplot(x=columns, y=profit, palette='Blues_r',ci=False)\n",
    "#add title\n",
    "ax.set_title(\"Performance in the pandemic scenario\", fontdict={'fontsize':15})\n",
    "#add legend \n",
    "plot.legend(labels=columns,loc='upper right')\n",
    "#setting the name and size of xlabel\n",
    "ax.set_xlabel('Indexes', fontdict={'fontsize':14})\n",
    "#setting the name of ylabel\n",
    "ax.set_ylabel('profit in (%)')\n",
    "#setting the size of ticks\n",
    "ax.tick_params(labelsize=14)\n",
    "#increasing the thickness\n",
    "ax.spines['bottom'].set_linewidth(2.5)\n",
    "#removing axes\n",
    "for axis in ['top', 'right', 'left']:\n",
    "   ax.spines[axis].set_color(None)\n",
    "#numbers\n",
    "for i in plot.patches:\n",
    "   plot.annotate(f'{i.get_height()}%',(i.get_x()+i.get_width()/2,i.get_height()),\n",
    "   ha='center',va='baseline',fontsize=12,\n",
    "   color='black',xytext=(0,1),\n",
    "   textcoords='offset points')\n",
    "#removinfg ticks\n",
    "ax.tick_params(axis='y', labelleft=False, left=None)                  \n",
    "#space optimize\n",
    "fig.tight_layout();"
   ]
  },
  {
   "cell_type": "code",
   "execution_count": 39,
   "metadata": {},
   "outputs": [
    {
     "data": {
      "text/html": [
       "<style type=\"text/css\">\n",
       "#T_ac443_row0_col0, #T_ac443_row1_col1, #T_ac443_row2_col2, #T_ac443_row3_col3 {\n",
       "  background-color: #08306b;\n",
       "  color: #f1f1f1;\n",
       "}\n",
       "#T_ac443_row0_col1 {\n",
       "  background-color: #c7dcef;\n",
       "  color: #000000;\n",
       "}\n",
       "#T_ac443_row0_col2 {\n",
       "  background-color: #d5e5f4;\n",
       "  color: #000000;\n",
       "}\n",
       "#T_ac443_row0_col3 {\n",
       "  background-color: #4a98c9;\n",
       "  color: #f1f1f1;\n",
       "}\n",
       "#T_ac443_row1_col0, #T_ac443_row1_col2, #T_ac443_row1_col3, #T_ac443_row3_col1 {\n",
       "  background-color: #f7fbff;\n",
       "  color: #000000;\n",
       "}\n",
       "#T_ac443_row2_col0 {\n",
       "  background-color: #a4cce3;\n",
       "  color: #000000;\n",
       "}\n",
       "#T_ac443_row2_col1 {\n",
       "  background-color: #8fc2de;\n",
       "  color: #000000;\n",
       "}\n",
       "#T_ac443_row2_col3 {\n",
       "  background-color: #3484bf;\n",
       "  color: #f1f1f1;\n",
       "}\n",
       "#T_ac443_row3_col0 {\n",
       "  background-color: #75b4d8;\n",
       "  color: #000000;\n",
       "}\n",
       "#T_ac443_row3_col2 {\n",
       "  background-color: #7db8da;\n",
       "  color: #000000;\n",
       "}\n",
       "</style>\n",
       "<table id=\"T_ac443_\">\n",
       "  <thead>\n",
       "    <tr>\n",
       "      <th class=\"blank level0\" >&nbsp;</th>\n",
       "      <th class=\"col_heading level0 col0\" >CAC-40</th>\n",
       "      <th class=\"col_heading level0 col1\" >DAX-30</th>\n",
       "      <th class=\"col_heading level0 col2\" >S&P 500</th>\n",
       "      <th class=\"col_heading level0 col3\" >TSX-300</th>\n",
       "    </tr>\n",
       "  </thead>\n",
       "  <tbody>\n",
       "    <tr>\n",
       "      <th id=\"T_ac443_level0_row0\" class=\"row_heading level0 row0\" >CAC-40</th>\n",
       "      <td id=\"T_ac443_row0_col0\" class=\"data row0 col0\" >1.000000</td>\n",
       "      <td id=\"T_ac443_row0_col1\" class=\"data row0 col1\" >0.869519</td>\n",
       "      <td id=\"T_ac443_row0_col2\" class=\"data row0 col2\" >0.916010</td>\n",
       "      <td id=\"T_ac443_row0_col3\" class=\"data row0 col3\" >0.931204</td>\n",
       "    </tr>\n",
       "    <tr>\n",
       "      <th id=\"T_ac443_level0_row1\" class=\"row_heading level0 row1\" >DAX-30</th>\n",
       "      <td id=\"T_ac443_row1_col0\" class=\"data row1 col0\" >0.869519</td>\n",
       "      <td id=\"T_ac443_row1_col1\" class=\"data row1 col1\" >1.000000</td>\n",
       "      <td id=\"T_ac443_row1_col2\" class=\"data row1 col2\" >0.898465</td>\n",
       "      <td id=\"T_ac443_row1_col3\" class=\"data row1 col3\" >0.827745</td>\n",
       "    </tr>\n",
       "    <tr>\n",
       "      <th id=\"T_ac443_level0_row2\" class=\"row_heading level0 row2\" >S&P 500</th>\n",
       "      <td id=\"T_ac443_row2_col0\" class=\"data row2 col0\" >0.916010</td>\n",
       "      <td id=\"T_ac443_row2_col1\" class=\"data row2 col1\" >0.898465</td>\n",
       "      <td id=\"T_ac443_row2_col2\" class=\"data row2 col2\" >1.000000</td>\n",
       "      <td id=\"T_ac443_row2_col3\" class=\"data row2 col3\" >0.944639</td>\n",
       "    </tr>\n",
       "    <tr>\n",
       "      <th id=\"T_ac443_level0_row3\" class=\"row_heading level0 row3\" >TSX-300</th>\n",
       "      <td id=\"T_ac443_row3_col0\" class=\"data row3 col0\" >0.931204</td>\n",
       "      <td id=\"T_ac443_row3_col1\" class=\"data row3 col1\" >0.827745</td>\n",
       "      <td id=\"T_ac443_row3_col2\" class=\"data row3 col2\" >0.944639</td>\n",
       "      <td id=\"T_ac443_row3_col3\" class=\"data row3 col3\" >1.000000</td>\n",
       "    </tr>\n",
       "  </tbody>\n",
       "</table>\n"
      ],
      "text/plain": [
       "<pandas.io.formats.style.Styler at 0x1fabc85b430>"
      ]
     },
     "execution_count": 39,
     "metadata": {},
     "output_type": "execute_result"
    }
   ],
   "source": [
    "#correlation\n",
    "indexes.corr().style.background_gradient(cmap='Blues')"
   ]
  },
  {
   "cell_type": "code",
   "execution_count": 42,
   "metadata": {},
   "outputs": [],
   "source": [
    "sp500=indexes.iloc[:,0].values\n",
    "tsx300=indexes.iloc[:,1].values"
   ]
  },
  {
   "cell_type": "code",
   "execution_count": 43,
   "metadata": {},
   "outputs": [
    {
     "data": {
      "text/plain": [
       "array([[1.        , 0.86951905],\n",
       "       [0.86951905, 1.        ]])"
      ]
     },
     "execution_count": 43,
     "metadata": {},
     "output_type": "execute_result"
    }
   ],
   "source": [
    "correlacao=np.corrcoef(sp500,tsx300)\n",
    "correlacao"
   ]
  }
 ],
 "metadata": {
  "kernelspec": {
   "display_name": "Python 3.9.13 64-bit (windows store)",
   "language": "python",
   "name": "python3"
  },
  "language_info": {
   "codemirror_mode": {
    "name": "ipython",
    "version": 3
   },
   "file_extension": ".py",
   "mimetype": "text/x-python",
   "name": "python",
   "nbconvert_exporter": "python",
   "pygments_lexer": "ipython3",
   "version": "3.9.13"
  },
  "orig_nbformat": 4,
  "vscode": {
   "interpreter": {
    "hash": "0c880bf50398c9e6ebbd48c247ea31cff5c6f8ce48b9cfb1b78e929d6cc40437"
   }
  }
 },
 "nbformat": 4,
 "nbformat_minor": 2
}
