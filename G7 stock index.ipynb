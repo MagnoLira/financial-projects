{
 "cells": [
  {
   "cell_type": "code",
   "execution_count": null,
   "metadata": {},
   "outputs": [],
   "source": [
    "import matplotlib.pyplot as plt\n",
    "import pandas as pd\n",
    "import numpy as np\n",
    "import seaborn as sns\n",
    "from pandas_datareader import data as wb"
   ]
  },
  {
   "cell_type": "code",
   "execution_count": null,
   "metadata": {},
   "outputs": [],
   "source": [
    "#We will analyze the performance of the stock index of some G7 countries in the pandemic scenario\n",
    "#EUA-S&P 500 ; Canada-TSX-300; Germany-DAX-30\n",
    "#France-CAC-40.\n",
    "#The order is respective as shown above.\n",
    "indicators=['^GSPC','^GSPTSE','^GDAXI','^FCHI']\n",
    "indexes=pd.DataFrame()\n",
    "for c in indicators:\n",
    "    indexes[c]=wb.DataReader(c,data_source='yahoo',start='01-01-2020',end='08-22-2022')['Adj Close']"
   ]
  },
  {
   "cell_type": "code",
   "execution_count": null,
   "metadata": {},
   "outputs": [],
   "source": [
    "#renaming column names\n",
    "#names=['S&P 500','TSX-300','DAX-30','CAC-40']\n",
    "indexes.rename(columns={'^GSPC':'S&P 500','^GSPTSE':'TSX-300',\n",
    "'^GDAXI':'DAX-30','^FCHI':'CAC-40'},inplace=True)\n",
    "indexes.tail()"
   ]
  },
  {
   "cell_type": "code",
   "execution_count": null,
   "metadata": {},
   "outputs": [],
   "source": [
    "#setting up the indexes\n",
    "sp500=indexes['S&P 500']\n",
    "tsx300=indexes['TSX-300']\n",
    "dax30=indexes['DAX-30']\n",
    "cac40=indexes['CAC-40']"
   ]
  },
  {
   "cell_type": "code",
   "execution_count": null,
   "metadata": {},
   "outputs": [],
   "source": [
    "#cumulative return\n",
    "sp500=np.cumprod(sp500.pct_change()+1)-1\n",
    "tsx300=np.cumprod(tsx300.pct_change()+1)-1\n",
    "dax30=np.cumprod(dax30.pct_change()+1)-1\n",
    "cac40=np.cumprod(cac40.pct_change()+1)-1"
   ]
  },
  {
   "cell_type": "code",
   "execution_count": null,
   "metadata": {},
   "outputs": [],
   "source": [
    "#the profit is determined by: sp500[-1]*100,tsx300[-1]*100 and so on.\n",
    "columns=['S&P 500','TSX-300','DAX-30','CAC-40']\n",
    "profit=[round(sp500[-1]*100,2),round(tsx300[-1]*100,2),round(dax30[-1]*100,2),round(cac40[-1]*100,2)]"
   ]
  },
  {
   "cell_type": "code",
   "execution_count": null,
   "metadata": {},
   "outputs": [],
   "source": [
    "#figure, axes, setting the size\n",
    "fig, ax = plt.subplots(figsize=(8,6))\n",
    "#Bar plot\n",
    "plot=sns.barplot(x=columns, y=profit, palette='Blues_r',ci=False)\n",
    "#add title\n",
    "ax.set_title(\"Performance in the pandemic scenario\", fontdict={'fontsize':15})\n",
    "#add legend \n",
    "plot.legend(labels=columns,loc='upper right')\n",
    "#setting the name and size of xlabel\n",
    "ax.set_xlabel('Indexes', fontdict={'fontsize':14})\n",
    "#setting the name of ylabel\n",
    "ax.set_ylabel('profit in (%)')\n",
    "#setting the size of ticks\n",
    "ax.tick_params(labelsize=14)\n",
    "#increasing the thickness\n",
    "ax.spines['bottom'].set_linewidth(2.5)\n",
    "#removing axes\n",
    "for axis in ['top', 'right', 'left']:\n",
    "   ax.spines[axis].set_color(None)\n",
    "#numbers\n",
    "for i in plot.patches:\n",
    "   plot.annotate(f'{i.get_height()}%',(i.get_x()+i.get_width()/2,i.get_height()),\n",
    "   ha='center',va='baseline',fontsize=12,\n",
    "   color='black',xytext=(0,1),\n",
    "   textcoords='offset points')\n",
    "#removinfg ticks\n",
    "ax.tick_params(axis='y', labelleft=False, left=None)                  \n",
    "#space optimize\n",
    "fig.tight_layout();"
   ]
  },
  {
   "cell_type": "code",
   "execution_count": null,
   "metadata": {},
   "outputs": [],
   "source": [
    "#correlation\n",
    "indexes.corr().style.background_gradient(cmap='Blues')"
   ]
  },
  {
   "cell_type": "code",
   "execution_count": null,
   "metadata": {},
   "outputs": [],
   "source": [
    "fig,ax1=plt.subplots()\n",
    "ax1.plot(indexes['S&P 500'],color='#0a5fc0',label='S&P 500')\n",
    "handles, labels = ax1.get_legend_handles_labels()\n",
    "ax1.legend(handles, labels,loc='lower right')\n",
    "ax2=ax1.twinx()\n",
    "ax2.plot(indexes['TSX-300'],color='#010615',label='TSX-300')\n",
    "handles, labels = ax2.get_legend_handles_labels()\n",
    "ax2.legend(handles, labels)\n",
    "plt.xticks([])\n",
    "plt.show()"
   ]
  },
  {
   "cell_type": "code",
   "execution_count": null,
   "metadata": {},
   "outputs": [],
   "source": [
    "fig,ax1=plt.subplots()\n",
    "ax1.plot(indexes['DAX-30'],color='#07888a',label='DAX-30')\n",
    "handles, labels = ax1.get_legend_handles_labels()\n",
    "ax1.legend(handles, labels,loc='lower right')\n",
    "ax2=ax1.twinx()\n",
    "ax2.plot(indexes['CAC-40'],color='#1c0144',label='CAC-40')\n",
    "handles, labels = ax2.get_legend_handles_labels()\n",
    "ax2.legend(handles, labels,loc='upper left')\n",
    "plt.xticks([])\n",
    "plt.show()"
   ]
  },
  {
   "cell_type": "code",
   "execution_count": null,
   "metadata": {},
   "outputs": [],
   "source": []
  }
 ],
 "metadata": {
  "kernelspec": {
   "display_name": "Python 3.9.13 64-bit (windows store)",
   "language": "python",
   "name": "python3"
  },
  "language_info": {
   "codemirror_mode": {
    "name": "ipython",
    "version": 3
   },
   "file_extension": ".py",
   "mimetype": "text/x-python",
   "name": "python",
   "nbconvert_exporter": "python",
   "pygments_lexer": "ipython3",
   "version": "3.9.13"
  },
  "orig_nbformat": 4,
  "vscode": {
   "interpreter": {
    "hash": "0c880bf50398c9e6ebbd48c247ea31cff5c6f8ce48b9cfb1b78e929d6cc40437"
   }
  }
 },
 "nbformat": 4,
 "nbformat_minor": 2
}
