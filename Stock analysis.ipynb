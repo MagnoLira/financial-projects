{
 "cells": [
  {
   "cell_type": "code",
   "execution_count": null,
   "metadata": {},
   "outputs": [],
   "source": [
    "import pandas as pd\n",
    "from pandas_datareader import data as pdr\n",
    "import numpy as np\n",
    "import matplotlib.pyplot as plt\n",
    "import yfinance as yf\n"
   ]
  },
  {
   "cell_type": "code",
   "execution_count": null,
   "metadata": {},
   "outputs": [],
   "source": [
    "yf.pdr_override()"
   ]
  },
  {
   "cell_type": "code",
   "execution_count": null,
   "metadata": {},
   "outputs": [],
   "source": [
    "#company tickers\n",
    "companies=['GGBR3.SA','ITSA4.SA']\n",
    "data_set=pd.DataFrame()\n"
   ]
  },
  {
   "cell_type": "code",
   "execution_count": null,
   "metadata": {},
   "outputs": [],
   "source": [
    "#adj close= adjusted close\n",
    "data_set=pdr.get_data_yahoo(companies,start='2019-01-01',end='2023-01-01')['Adj Close']"
   ]
  },
  {
   "cell_type": "code",
   "execution_count": null,
   "metadata": {},
   "outputs": [],
   "source": [
    "#Data frame\n",
    "data_set.tail()"
   ]
  },
  {
   "cell_type": "code",
   "execution_count": null,
   "metadata": {},
   "outputs": [],
   "source": [
    "#Vectors\n",
    "vectors=[0.50,0.50]\n"
   ]
  },
  {
   "cell_type": "code",
   "execution_count": null,
   "metadata": {},
   "outputs": [],
   "source": [
    "prices = pdr.get_data_yahoo(companies, start = '2019-01-01', end = '2023-01-01')\n",
    "ibov = pdr.get_data_yahoo('^BVSP', start = '2019-01-01', end = '2023-01-01')\n",
    "prices = prices['Adj Close']\n",
    "ibov = ibov['Adj Close']"
   ]
  },
  {
   "cell_type": "code",
   "execution_count": null,
   "metadata": {},
   "outputs": [],
   "source": [
    "matriz=prices.pct_change()\n",
    "matriz"
   ]
  },
  {
   "cell_type": "code",
   "execution_count": null,
   "metadata": {},
   "outputs": [],
   "source": [
    "dot_product=np.dot(matriz,vectors )\n",
    "pd.DataFrame(dot_product,columns=['Portfolio profitability'])"
   ]
  },
  {
   "cell_type": "code",
   "execution_count": null,
   "metadata": {},
   "outputs": [],
   "source": [
    "#portfolio vs Ibovespa\n",
    "portfolio= np.cumprod(dot_product[1:] + 1)-1\n",
    "ibov = np.cumprod(ibov.pct_change()+1)-1\n",
    "\n",
    "print(f'cumulative return on portfolio in the period:{round(portfolio[-1]*100,2)}%')\n",
    "print(f'cumulative return on ibovespa index in the period:{round(ibov[-1]*100,2)}%')\n",
    "print(f'cumulative assets on portfolio:{round(10000*portfolio[-1]+10000,2)}')\n",
    "print(f'cumulative assets on ibovespa index:{round(10000*ibov[-1]+10000,2)}')"
   ]
  },
  {
   "cell_type": "code",
   "execution_count": null,
   "metadata": {},
   "outputs": [],
   "source": [
    "plt.plot(10000*(1+dot_product[1:]).cumprod(),color='green')\n",
    "plt.title('stocks')"
   ]
  },
  {
   "cell_type": "code",
   "execution_count": null,
   "metadata": {},
   "outputs": [],
   "source": [
    "plt.plot((1+ibov.pct_change()).cumprod(),color='Red')\n",
    "plt.title('Ibovespa')"
   ]
  },
  {
   "cell_type": "code",
   "execution_count": null,
   "metadata": {},
   "outputs": [],
   "source": [
    "log_ret = np.log(prices/prices.shift(1))\n",
    "vol = np.sqrt(np.dot(vectors, np.dot(log_ret.cov()*252, vectors)))\n",
    "print(f'portfolio volatility:{round(vol*100,2)}%')"
   ]
  }
 ],
 "metadata": {
  "interpreter": {
   "hash": "0c880bf50398c9e6ebbd48c247ea31cff5c6f8ce48b9cfb1b78e929d6cc40437"
  },
  "kernelspec": {
   "display_name": "Python 3.9.12 64-bit (windows store)",
   "language": "python",
   "name": "python3"
  },
  "language_info": {
   "codemirror_mode": {
    "name": "ipython",
    "version": 3
   },
   "file_extension": ".py",
   "mimetype": "text/x-python",
   "name": "python",
   "nbconvert_exporter": "python",
   "pygments_lexer": "ipython3",
   "version": "3.9.13"
  },
  "orig_nbformat": 4
 },
 "nbformat": 4,
 "nbformat_minor": 2
}
