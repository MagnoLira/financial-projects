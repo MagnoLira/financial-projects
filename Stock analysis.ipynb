{
 "cells": [
  {
   "cell_type": "code",
   "execution_count": null,
   "metadata": {},
   "outputs": [],
   "source": [
    "import pandas as pd\n",
    "from pandas_datareader import data as wb\n",
    "import numpy as np\n",
    "import matplotlib.pyplot as plt"
   ]
  },
  {
   "cell_type": "code",
   "execution_count": null,
   "metadata": {},
   "outputs": [],
   "source": [
    "#company tickers\n",
    "companies=['FLRY3.SA','ITSA4.SA','GGBR3.SA','WEGE3.SA']\n",
    "data_set=pd.DataFrame()"
   ]
  },
  {
   "cell_type": "code",
   "execution_count": null,
   "metadata": {},
   "outputs": [],
   "source": [
    "#adj close= adjusted close\n",
    "for c in companies:\n",
    "    data_set[c]=wb.DataReader(c,data_source='yahoo',start='01-01-2017')['Adj Close']"
   ]
  },
  {
   "cell_type": "code",
   "execution_count": null,
   "metadata": {},
   "outputs": [],
   "source": [
    "#Data frame\n",
    "data_set.tail()"
   ]
  },
  {
   "cell_type": "code",
   "execution_count": null,
   "metadata": {},
   "outputs": [],
   "source": [
    "#Vectors\n",
    "vectors=[0.15,0.25,0.30,0.30]\n"
   ]
  },
  {
   "cell_type": "code",
   "execution_count": null,
   "metadata": {},
   "outputs": [],
   "source": [
    "prices = wb.DataReader(companies, data_source = 'yahoo', start = '01-01-2017', end = '04-20-2022')\n",
    "ibov = wb.DataReader('^BVSP', data_source = 'yahoo', start = '01-01-2017', end = '04-20-2022')\n",
    "prices = prices['Adj Close']\n",
    "ibov = ibov['Adj Close']"
   ]
  },
  {
   "cell_type": "code",
   "execution_count": null,
   "metadata": {},
   "outputs": [],
   "source": [
    "matriz=prices.pct_change()\n",
    "matriz"
   ]
  },
  {
   "cell_type": "code",
   "execution_count": null,
   "metadata": {},
   "outputs": [],
   "source": [
    "dot_product=np.dot(matriz,vectors )\n",
    "pd.DataFrame(dot_product,columns=['Portfolio profitability'])"
   ]
  },
  {
   "cell_type": "code",
   "execution_count": null,
   "metadata": {},
   "outputs": [],
   "source": [
    "#portfolio vs Ibovespa\n",
    "portfolio= np.cumprod(dot_product[1:] + 1)-1\n",
    "ibov = np.cumprod(ibov.pct_change()+1)-1\n",
    "\n",
    "print(f'cumulative return on portfolio in the period:{round(portfolio[-1]*100,2)}%')\n",
    "print(f'cumulative return on ibovespa index in the period:{round(ibov[-1]*100,2)}%')\n",
    "print(f'cumulative assets on portfolio:{round(1000*portfolio[-1]+1000,2)}')\n",
    "print(f'cumulative assets on ibovespa index:{round(1000*ibov[-1]+1000,2)}')"
   ]
  },
  {
   "cell_type": "code",
   "execution_count": null,
   "metadata": {},
   "outputs": [],
   "source": [
    "plt.plot(1000*(1+dot_product[1:]).cumprod(),color='green')\n",
    "plt.title('Portfolio')"
   ]
  },
  {
   "cell_type": "code",
   "execution_count": null,
   "metadata": {},
   "outputs": [],
   "source": [
    "plt.plot((1+ibov.pct_change()).cumprod(),color='Red')\n",
    "plt.title('Ibovespa index')"
   ]
  },
  {
   "cell_type": "code",
   "execution_count": null,
   "metadata": {},
   "outputs": [],
   "source": [
    "log_ret = np.log(prices/prices.shift(1))\n",
    "vol = np.sqrt(np.dot(vectors, np.dot(log_ret.cov()*252, vectors)))\n",
    "print(f'portfolio volatility:{round(vol*100,2)}%')"
   ]
  }
 ],
 "metadata": {
  "interpreter": {
   "hash": "f0a8ca1b1324573d7b9c7247f92177669f6f55c0b2d917412ca0894f2d26eb46"
  },
  "kernelspec": {
   "display_name": "Python 3.9.11 64-bit (windows store)",
   "language": "python",
   "name": "python3"
  },
  "language_info": {
   "codemirror_mode": {
    "name": "ipython",
    "version": 3
   },
   "file_extension": ".py",
   "mimetype": "text/x-python",
   "name": "python",
   "nbconvert_exporter": "python",
   "pygments_lexer": "ipython3",
   "version": "3.9.12"
  },
  "orig_nbformat": 4
 },
 "nbformat": 4,
 "nbformat_minor": 2
}
