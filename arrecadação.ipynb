{
 "cells": [
  {
   "cell_type": "code",
   "execution_count": null,
   "metadata": {},
   "outputs": [],
   "source": [
    "import pandas as pd \n",
    "from sklearn.linear_model import LinearRegression\n",
    "from itertools import chain\n",
    "import matplotlib.pyplot as plt\n",
    "import seaborn as sns\n",
    "import scipy.stats as stats"
   ]
  },
  {
   "cell_type": "markdown",
   "metadata": {},
   "source": [
    "Realizando o tratamento da estrutura do dataframe"
   ]
  },
  {
   "cell_type": "code",
   "execution_count": null,
   "metadata": {},
   "outputs": [],
   "source": [
    "#criando o dataframe\n",
    "anos=['1994','1995','1996','1997','1998','1999','2000','2001','2002','2003','2004','2005',\n",
    "'2006','2007','2008','2009','2010','2011','2012','2013','2014','2015','2016','2017',\n",
    "'2018','2019','2020','2021']\n",
    "dataset=pd.DataFrame()\n",
    "for i in anos:\n",
    "    tabela=pd.read_excel('arrecadação.xlsx',sheet_name=i)\n",
    "    dataset=pd.concat([dataset,tabela],axis=0,ignore_index=True)\n",
    "dataset"
   ]
  },
  {
   "cell_type": "markdown",
   "metadata": {},
   "source": [
    "O arquivo possui várias planilhas, caso queira uma particular basta fazer: pd.read_excel('arrecadação.xlsx',sheet_name='nome da planilha')\n",
    "caso queira todas, defina: sheet_name=none, mas o arquivo passará a ser um dicionário. "
   ]
  },
  {
   "cell_type": "code",
   "execution_count": null,
   "metadata": {},
   "outputs": [],
   "source": [
    "#deletando dos valores nulos\n",
    "dataset=dataset.drop(dataset.index[[0,1,2,3]])\n",
    "dataset.head()"
   ]
  },
  {
   "cell_type": "code",
   "execution_count": null,
   "metadata": {},
   "outputs": [],
   "source": [
    "#renomeando as colunas\n",
    "# colunas=['receitas','janeiro','fevereiro','março','abril','maio','junho','julho','agosto','setembro'\n",
    "# ,'outubro','novembro','dezembro','total']\n",
    "dataset.rename(columns={'Unnamed: 0':'receitas','Unnamed: 1': 'JAN','Unnamed: 2':'FEV',\n",
    "'Unnamed: 3':'MAR','Unnamed: 4':'ABR','Unnamed: 5':'MAI','Unnamed: 6':'JUN','Unnamed: 7':'JUL',\n",
    "'Unnamed: 8':'AGO','Unnamed: 9':'SET','Unnamed: 10':'OUT','Unnamed: 11':'NOV',\n",
    "'Unnamed: 12':'DEZ','Unnamed: 13':'total'},inplace=True)\n",
    "dataset.head()"
   ]
  },
  {
   "cell_type": "code",
   "execution_count": null,
   "metadata": {},
   "outputs": [],
   "source": [
    "#apagando a primeira linha; ambiguidade\n",
    "dataset=dataset.drop(dataset.index[[0]])\n",
    "dataset"
   ]
  },
  {
   "cell_type": "markdown",
   "metadata": {},
   "source": [
    "Tratamento dos dados"
   ]
  },
  {
   "cell_type": "code",
   "execution_count": null,
   "metadata": {},
   "outputs": [],
   "source": [
    "#Vamos juntar os imposto de renda das pessoas físicas e juridicas no intervalo de tempo: 1994-2021\n",
    "#A frequência dos dados IR PF E PF: 43, logo, temos uma P.A\n",
    "# termos iniciais: IR-PF:9;IR-PJ:10.\n",
    "#termo final: 1127\n",
    "periodo_pessoafisica=[]\n",
    "lista_pessoajuridica=[]\n",
    "valores_pessoafisica=[]\n",
    "valores_pessoajuridica=[]\n",
    "\n",
    "#Filtro dos elementos\n",
    "for x in range(9,1127,43):\n",
    "    periodo_pessoafisica.append(x) #trabalhando nossa P.A IR-pessoa fisica\n",
    "for j in periodo_pessoafisica: \n",
    "    valores_pessoafisica.append(dataset.iloc[j,0:13].values) #adicionando os valores\n",
    "for p in range(10,1127,43):\n",
    "    lista_pessoajuridica.append(p) #processo análogo ao IR-PF\n",
    "for z in lista_pessoajuridica: \n",
    "    valores_pessoajuridica.append(dataset.iloc[z,0:13].values) #análogo\n",
    "\n",
    "#transformando uma lista multinível em unidimensional\n",
    "valores_pessoafisica=list(chain(*valores_pessoafisica)) \n",
    "valores_pessoajuridica=list(chain(*valores_pessoajuridica))\n",
    "#excluindo a string\n",
    "k='  I.RENDA-PESSOA FÍSICA'\n",
    "j='  I.RENDA-PESSOA JURÍDICA'\n",
    "while(k in valores_pessoafisica):\n",
    "    valores_pessoafisica.remove(k)\n",
    "while(j in valores_pessoajuridica):\n",
    "    valores_pessoajuridica.remove(j)\n",
    "#criando o data frame\n",
    "imposto=pd.DataFrame()\n",
    "imposto.insert(0,'pessoafisica',valores_pessoafisica)\n",
    "imposto.insert(1,'pessoajuridica',valores_pessoajuridica)\n",
    "imposto"
   ]
  },
  {
   "cell_type": "code",
   "execution_count": null,
   "metadata": {},
   "outputs": [],
   "source": [
    "#correlação\n",
    "imposto.corr().style.background_gradient(cmap='Blues')"
   ]
  },
  {
   "cell_type": "code",
   "execution_count": null,
   "metadata": {},
   "outputs": [],
   "source": [
    "#Regressão linear\n",
    "x=imposto.iloc[:,0].values\n",
    "y=imposto.iloc[:,1].values\n",
    "#modelo de regressão\n",
    "X=x.reshape(-1,1)\n",
    "Y=y.reshape(-1,1)\n",
    "modelo=LinearRegression()\n",
    "modelo.fit(X,Y)"
   ]
  },
  {
   "cell_type": "code",
   "execution_count": null,
   "metadata": {},
   "outputs": [],
   "source": [
    "#score\n",
    "modelo.score(X,Y)"
   ]
  },
  {
   "cell_type": "code",
   "execution_count": null,
   "metadata": {},
   "outputs": [],
   "source": [
    "#previsão\n",
    "previsao=modelo.predict(X)"
   ]
  },
  {
   "cell_type": "code",
   "execution_count": null,
   "metadata": {},
   "outputs": [],
   "source": [
    "#dispersão\n",
    "plt.scatter(X,Y,c='green')\n",
    "plt.title('Dispersão IR')\n",
    "plt.xlabel('IR-PF')\n",
    "plt.ylabel('IR-PJ')\n",
    "plt.plot(X,previsao,color='red')"
   ]
  },
  {
   "cell_type": "code",
   "execution_count": null,
   "metadata": {},
   "outputs": [],
   "source": [
    "#IR- pessoa física\n",
    "sns.distplot(imposto.iloc[:,0].values,bins=10,axlabel='IR-Pessoa física').set_title('Imposto de renda-PF')"
   ]
  },
  {
   "cell_type": "code",
   "execution_count": null,
   "metadata": {},
   "outputs": [],
   "source": [
    "#IR-pessoa juridica\n",
    "sns.distplot(imposto.iloc[:,1].values,bins=10,axlabel='IR-Pessoa juridica').set_title('Imposto de renda-PJ ')"
   ]
  }
 ],
 "metadata": {
  "kernelspec": {
   "display_name": "Python 3.9.13 64-bit (windows store)",
   "language": "python",
   "name": "python3"
  },
  "language_info": {
   "codemirror_mode": {
    "name": "ipython",
    "version": 3
   },
   "file_extension": ".py",
   "mimetype": "text/x-python",
   "name": "python",
   "nbconvert_exporter": "python",
   "pygments_lexer": "ipython3",
   "version": "3.9.13"
  },
  "orig_nbformat": 4,
  "vscode": {
   "interpreter": {
    "hash": "0c880bf50398c9e6ebbd48c247ea31cff5c6f8ce48b9cfb1b78e929d6cc40437"
   }
  }
 },
 "nbformat": 4,
 "nbformat_minor": 2
}
